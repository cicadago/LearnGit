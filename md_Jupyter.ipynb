{
 "cells": [
  {
   "cell_type": "markdown",
   "metadata": {},
   "source": [
    "### Markdown語法：\n",
    "\n",
    "換行：需在最後面+兩個空白鍵\n",
    "    行末按兩個空格, 産生換行\n",
    "連續\n",
    "另一行"
   ]
  },
  {
   "cell_type": "markdown",
   "metadata": {},
   "source": [
    "\n",
    "文字格式：\n",
    "- 斜體：在文字兩邊加上一個 * 或是一個 _  \n",
    "  *星號* 或是 _底線_\n",
    "- 粗體：在文字兩邊加上兩個 * 或是兩個 _  \n",
    "  **兩個星號** 或是 __兩個底線__  \n",
    "- 刪除線：在文字兩邊加上兩個 ~  \n",
    "  ~~兩個波浪~~\n",
    "  \n"
   ]
  },
  {
   "cell_type": "markdown",
   "metadata": {},
   "source": []
  },
  {
   "cell_type": "markdown",
   "metadata": {},
   "source": [
    "- 連結：以方括號括住連結文字 (例如 [Google 文件])。  \n",
    "在連結文字後面加上連結網址並以圓括號括住  \n",
    "在 [Google 文件](https://docs.google.com/document/)中開啟檔案。  \n",
    "注意：方括號與圓括號之間不得有空格\n",
    "\n",
    "> 引言(註解)\n"
   ]
  },
  {
   "cell_type": "markdown",
   "metadata": {},
   "source": [
    "\n",
    "6 種不同的標題：\n"
   ]
  },
  {
   "cell_type": "markdown",
   "metadata": {},
   "source": [
    "# 標題1\n",
    "## 標題2\n",
    "### 標題3\n"
   ]
  },
  {
   "cell_type": "markdown",
   "metadata": {},
   "source": [
    "<details open>\n",
    "  <summary>Hello</summary>\n",
    "  World!\n",
    "</details>"
   ]
  },
  {
   "cell_type": "markdown",
   "metadata": {},
   "source": [
    "\n",
    "## 標題2\n",
    "### 標題3\n"
   ]
  },
  {
   "cell_type": "markdown",
   "metadata": {},
   "source": [
    "#### 標題4\n",
    "##### 標題5\n",
    "###### 標題6\n",
    "\n",
    "有序列表: 直接打 `數字`+ `.` + `空白鍵`\n",
    "1. 有序列表1\n",
    "2. 有序列表2\n",
    "\t1. 子有序列表1\n",
    "\t2. 子有序列表2\n",
    "\n",
    "- 無序清單\n",
    "- 無序清單\n",
    "    - 無序清單子清單\n",
    "        - 無序清單子子清單\n",
    "\n",
    "也可以使用星號 * 或 加號 +\n",
    "\n",
    "- [ ] checkbox\n",
    "[] uncheck  \n",
    "[x] check  \n",
    "\n",
    "* 連結兩邊加上`<` `>`就會產生超連結\n",
    "<http://dillinger.io/>\n",
    "\n",
    "* 名稱兩邊加上`[` `]`然後再連結兩邊加上`(` `)`就可以將連結替換成文字連結\n",
    "[Dillinger](http://dillinger.io/ \"link\")\n",
    "\n",
    "* 將`[` `]`前+`!`，則可以產生圖片 (把滑鼠指向圖片可以看到註解）  \n",
    "![圖片名稱](連結 \"游標顯示\")\n",
    "\n",
    "\t![圖片參考名稱](https://raw.githubusercontent.com/adam-p/markdown-here/master/src/common/images/icon48.png \"Logo\")\n",
    "\n",
    "- 行內的 `程式碼` 用 `反引號` 包起來\n",
    "- 區塊的 `程式碼` 用 ```三個反引號```包起來\n",
    "記得要加上語言名稱\n",
    "```Python\n",
    "\tname = input('your name: ')\n",
    "\tprint(f\"你的名字: {name}\")\n",
    "```\n",
    "```語言名稱\n",
    "\t程式碼\n",
    "```\n",
    "```Python\n",
    "name = input('your name: ')\n",
    "print(f\"你的名字: {name}\")\n",
    "```\n",
    "\n",
    "*斜體字*\n",
    "**粗體字**\n",
    "***斜體兼粗體***\n",
    "~~刪除線~~\n",
    "\n",
    "\tadd tab in the block\n",
    "\n",
    "<input type=\"checkbox\" checked> some checked text\n",
    "\n",
    "1.\n",
    "空行\n",
    "---\n",
    "2.\n",
    "***\n",
    "3.\n",
    "- - -\n",
    "4.\n",
    "* * *\n",
    "---\n",
    "\n",
    "\n",
    "$$\n",
    "\\begin{align*}\n",
    "y = y(x,t) &= A e^{i\\theta} \\\\\n",
    "&= A (\\cos \\theta + i \\sin \\theta) \\\\\n",
    "&= A (\\cos(kx - \\omega t) + i \\sin(kx - \\omega t)) \\\\\n",
    "&= A\\cos(kx - \\omega t) + i A\\sin(kx - \\omega t)  \\\\\n",
    "&= A\\cos \\Big(\\frac{2\\pi}{\\lambda}x - \\frac{2\\pi v}{\\lambda} t \\Big) + i A\\sin \\Big(\\frac{2\\pi}{\\lambda}x - \\frac{2\\pi v}{\\lambda} t \\Big)  \\\\\n",
    "&= A\\cos \\frac{2\\pi}{\\lambda} (x - v t) + i A\\sin \\frac{2\\pi}{\\lambda} (x - v t)\n",
    "\\end{align*}\n",
    "$$"
   ]
  },
  {
   "cell_type": "markdown",
   "metadata": {},
   "source": [
    "a"
   ]
  },
  {
   "cell_type": "markdown",
   "metadata": {},
   "source": [
    "Markdown支援在下面這些符號前面加上反斜線來幫助插入普通的符號：\n",
    "\n",
    "\\\\   反斜線\n",
    "\\`   反引號\n",
    "*   星號 *  \n",
    "_   底線  \n",
    "{}  大括號    \n",
    "[]  方括號  \n",
    "()  括號  \n",
    "\\#   井字號 #    \n",
    "\\+   加號  \n",
    "\\-   減號-  \n",
    ".   英文句點.  \n",
    "!   驚嘆號  "
   ]
  }
 ],
 "metadata": {
  "language_info": {
   "name": "python"
  },
  "orig_nbformat": 4
 },
 "nbformat": 4,
 "nbformat_minor": 2
}
